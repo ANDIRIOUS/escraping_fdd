{
 "cells": [
  {
   "cell_type": "markdown",
   "id": "f9582a54",
   "metadata": {},
   "source": [
    "# Tarea de Scraping Web con Python y Selenium\n",
    "\n",
    "## Objetivo\n",
    "Desarrollar habilidades prácticas en scraping web utilizando Python con Selenium y BeautifulSoup. Se espera que manejen el navegador de forma programática para extraer datos dinámicos de un sitio web específico y que realicen un análisis básico de los datos obtenidos.\n",
    "\n",
    "## Instrucciones\n",
    "1. Configura tu entorno de desarrollo instalando las librerías necesarias: Selenium, BeautifulSoup, pandas, entre otras que consideres necesarias.\n",
    "2. Configura un navegador usando Selenium. Debes asegurarte de incluir opciones como el modo incógnito y el modo sin interfaz gráfica (headless).\n",
    "3. Elige un sitio web que ofrezca datos dinámicos y sea legal para hacer scraping (por ejemplo, datos meteorológicos, precios de productos, cotizaciones de bolsa).\n",
    "4. Navega al sitio web utilizando Selenium, realiza búsquedas o filtra datos si es necesario utilizando interacciones del navegador.\n",
    "5. Extrae datos relevantes usando Selenium y BeautifulSoup. Debes obtener al menos tres tipos de datos relacionados (por ejemplo, nombre del producto, precio y categoría).\n",
    "6. Limpia y organiza los datos extraídos en un DataFrame de pandas.\n",
    "7. Realiza un análisis básico de los datos: puede ser estadístico descriptivo o alguna visualización simple.\n",
    "8. Documenta cada paso del proceso con comentarios en el código y celdas Markdown explicando las decisiones y métodos utilizados.\n",
    "\n",
    "## Criterios de Evaluación\n",
    "- Correcta configuración y uso de Selenium y BeautifulSoup.\n",
    "- Capacidad para navegar y extraer datos de forma efectiva y eficiente.\n",
    "- Limpieza y estructuración adecuada de los datos extraídos.\n",
    "- Calidad del análisis realizado y claridad en la documentación.\n",
    "\n",
    "## Entrega\n",
    "- Debes entregar este cuaderno Jupyter completado con todo el código, análisis y documentación solicitada.\n",
    "\n",
    "¡Buena suerte y que disfrutes del proceso de aprendizaje y exploración de datos!\n"
   ]
  }
 ],
 "metadata": {
  "kernelspec": {
   "display_name": "Python 3 (ipykernel)",
   "language": "python",
   "name": "python3"
  },
  "language_info": {
   "codemirror_mode": {
    "name": "ipython",
    "version": 3
   },
   "file_extension": ".py",
   "mimetype": "text/x-python",
   "name": "python",
   "nbconvert_exporter": "python",
   "pygments_lexer": "ipython3",
   "version": "3.10.9"
  }
 },
 "nbformat": 4,
 "nbformat_minor": 5
}
