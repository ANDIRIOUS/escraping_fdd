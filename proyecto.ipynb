{
 "cells": [
  {
   "cell_type": "code",
   "execution_count": 1,
   "metadata": {},
   "outputs": [],
   "source": [
    "# Importar el módulo time para manejar tiempos\n",
    "import time\n",
    "\n",
    "# Importar undetected_chromedriver como uc para evitar ser detectado\n",
    "import undetected_chromedriver as uc\n",
    "\n",
    "# Importar diferentes clases y métodos de Selenium para la automatización del navegador\n",
    "from selenium.webdriver.common.by import By\n",
    "from selenium.webdriver.common.keys import Keys\n",
    "from selenium.webdriver.support.ui import WebDriverWait\n",
    "from selenium.webdriver.support import expected_conditions as EC\n",
    "from selenium import webdriver\n",
    "from selenium.webdriver.chrome.options import Options\n",
    "from selenium.webdriver.common.action_chains import ActionChains\n",
    "\n",
    "# Importar BeautifulSoup (bs) para el análisis del código HTML\n",
    "from bs4 import BeautifulSoup as bs\n",
    "\n",
    "# Importar el módulo requests para realizar solicitudes HTTP\n",
    "import requests\n"
   ]
  },
  {
   "cell_type": "markdown",
   "metadata": {},
   "source": [
    "Configuración de opciones del navegador Chrome"
   ]
  },
  {
   "cell_type": "code",
   "execution_count": 241,
   "metadata": {},
   "outputs": [],
   "source": [
    "# Crear un objeto ChromeOptions para configurar las opciones del navegador\n",
    "options = uc.ChromeOptions()\n",
    "\n",
    "# Configurar el modo headless del navegador (sin interfaz gráfica)\n",
    "options.headless = False\n",
    "\n",
    "# Agregar argumentos para abrir una ventana de incógnito\n",
    "options.add_argument(\"--incognito\")\n",
    "\n",
    "# Agregar argumentos para deshabilitar las barras de información del navegador\n",
    "options.add_argument(\"--disable-infobars\")\n",
    "\n",
    "# Crear una instancia del navegador Chrome con las opciones configuradas\n",
    "driver = uc.Chrome(options=options)\n",
    "\n",
    "\n",
    "#options.add_argument(\"user-agent=Mozilla/5.0 (Windows NT 10.0; Win64; x64) AppleWebKit/537.36 (KHTML, like Gecko) Chrome/100.0.4896.79 Safari/537.3\")\n",
    "#driver = webdriver.Chrome(options=options)"
   ]
  },
  {
   "cell_type": "code",
   "execution_count": 225,
   "metadata": {},
   "outputs": [],
   "source": [
    "driver.get(\"https://steamdb.info/\")"
   ]
  },
  {
   "cell_type": "markdown",
   "metadata": {},
   "source": [
    "Captura de pantalla "
   ]
  },
  {
   "cell_type": "code",
   "execution_count": 226,
   "metadata": {},
   "outputs": [
    {
     "name": "stdout",
     "output_type": "stream",
     "text": [
      "Capturando pantalla...\n"
     ]
    },
    {
     "data": {
      "text/plain": [
       "True"
      ]
     },
     "execution_count": 226,
     "metadata": {},
     "output_type": "execute_result"
    }
   ],
   "source": [
    "\n",
    "print(\"Capturando pantalla...\")\n",
    "driver.save_screenshot(\"screenshot.png\")"
   ]
  },
  {
   "cell_type": "markdown",
   "metadata": {},
   "source": [
    "Scroll hasta el final de la página"
   ]
  },
  {
   "cell_type": "code",
   "execution_count": 227,
   "metadata": {},
   "outputs": [
    {
     "name": "stdout",
     "output_type": "stream",
     "text": [
      "Desplazándose hasta el final de la página...\n"
     ]
    }
   ],
   "source": [
    "print(\"Desplazándose hasta el final de la página...\")\n",
    "driver.execute_script(\"window.scrollTo(0, document.body.scrollHeight);\")\n"
   ]
  },
  {
   "cell_type": "markdown",
   "metadata": {},
   "source": [
    "Busqueda y relleno de un elemento "
   ]
  },
  {
   "cell_type": "code",
   "execution_count": 228,
   "metadata": {},
   "outputs": [],
   "source": [
    "# Encontrar el cuadro de búsqueda por su clase \"field\"\n",
    "search_box = driver.find_element(By.CLASS_NAME, \"field\")\n",
    "\n",
    "# Ingresar texto en el cuadro de búsqueda\n",
    "search_box.send_keys(\"hot line miami\")\n",
    "\n",
    "# Esperar durante 5.45 segundos antes de enviar la tecla \"Enter\"\n",
    "time.sleep(5.45)\n",
    "\n",
    "# Enviar la tecla \"Enter\" para realizar la búsqueda\n",
    "search_box.send_keys(Keys.RETURN)"
   ]
  },
  {
   "cell_type": "markdown",
   "metadata": {},
   "source": [
    "Extraer elementos de una 'tabla' "
   ]
  },
  {
   "cell_type": "code",
   "execution_count": 229,
   "metadata": {},
   "outputs": [
    {
     "name": "stdout",
     "output_type": "stream",
     "text": [
      "1. Switzerland\n",
      "2\n",
      "2\n",
      "0\n",
      "2. Austria\n",
      "2\n",
      "1\n",
      "0\n",
      "3. Italy\n",
      "2\n",
      "0\n",
      "1\n",
      "4. Tajikistan\n",
      "1\n",
      "3\n",
      "3\n",
      "5. Germany\n",
      "1\n",
      "1\n",
      "1\n"
     ]
    }
   ],
   "source": [
    "\n",
    "driver.get(\"https://www.ijf.org/competition/2650\")\n",
    "# Encontrar todos los elementos dentro de la tabla usando XPath específico\n",
    "elementos_de_tabla = driver.find_elements(By.XPATH, \"/html/body/main/div[3]/div/div/div/div[2]/div[1]/div[1]/div[2]/div[1]/table/tbody/tr/td\")\n",
    "\n",
    "# Imprimir el contenido de cada elemento de la tabla\n",
    "for elemento in elementos_de_tabla:\n",
    "    print(elemento.text)"
   ]
  },
  {
   "cell_type": "code",
   "execution_count": 191,
   "metadata": {},
   "outputs": [
    {
     "name": "stdout",
     "output_type": "stream",
     "text": [
      "1. Switzerland\n"
     ]
    }
   ],
   "source": [
    "print (elementos_de_tabla[0].text)"
   ]
  },
  {
   "cell_type": "markdown",
   "metadata": {},
   "source": [
    "Navegación a una nueva ventana o pestaña y recuperación de la URL"
   ]
  },
  {
   "cell_type": "code",
   "execution_count": 230,
   "metadata": {},
   "outputs": [
    {
     "name": "stdout",
     "output_type": "stream",
     "text": [
      "URL actual: https://www.justwatch.com/mx/deportes\n",
      "URL de la nueva ventana o pestaña: devtools://devtools/bundled/devtools_app.html?remoteBase=https://chrome-devtools-frontend.appspot.com/serve_file/@df4f029328b2d50a2a4c02c8952b75245983a0ed/&can_dock=true&panel=elements&targetType=tab&veLogging=true\n"
     ]
    }
   ],
   "source": [
    "\n",
    "driver.get(\"https://www.justwatch.com/mx/deportes\")\n",
    "driver.implicitly_wait(5)\n",
    "# Obtenemos el url de la pagina en la que estamos \n",
    "current_url = driver.current_url\n",
    "print(\"URL actual:\", current_url)\n",
    "# Encontrar el elemento en el que deseas hacer clic\n",
    "elemento = driver.find_element(By.XPATH, '//*[@id=\"base\"]/div[1]/div/div/div[2]/section/article[1]/div/div/a[6]')\n",
    "\n",
    "# Hacer clic en el elemento\n",
    "elemento.click()\n",
    "\n",
    "# Cambiar al contexto de la nueva ventana o pestaña\n",
    "driver.switch_to.window(driver.window_handles[-1])\n",
    "driver.implicitly_wait(20)\n",
    "\n",
    "# Ahora puedes interactuar con los elementos dentro de la nueva ventana o pestaña\n",
    "# Por ejemplo, puedes obtener la URL de la nueva ventana o pestaña\n",
    "print(\"URL de la nueva ventana o pestaña:\", driver.current_url)\n",
    "\n",
    "\n"
   ]
  },
  {
   "cell_type": "code",
   "execution_count": 234,
   "metadata": {},
   "outputs": [],
   "source": [
    "# Retroceder en el historial de navegación\n",
    "driver.back()\n",
    "driver.implicitly_wait(20)\n"
   ]
  },
  {
   "cell_type": "code",
   "execution_count": 233,
   "metadata": {},
   "outputs": [],
   "source": [
    "#  Refrescar la página\n",
    "driver.refresh()\n",
    "driver.implicitly_wait(20)\n",
    "#  Avanzar en el historial de navegación\n",
    "driver.forward()"
   ]
  },
  {
   "cell_type": "code",
   "execution_count": 202,
   "metadata": {},
   "outputs": [
    {
     "name": "stdout",
     "output_type": "stream",
     "text": [
      "Manejando cookies...\n"
     ]
    }
   ],
   "source": [
    "#  Manejo de cookies\n",
    "print(\"Manejando cookies...\")\n",
    "cookie = {\"name\": \"cookie_name\", \"value\": \"cookie_value\"}\n",
    "driver.add_cookie(cookie)"
   ]
  },
  {
   "cell_type": "markdown",
   "metadata": {},
   "source": [
    "Guardando el código fuente de una página web en un archivo HTML"
   ]
  },
  {
   "cell_type": "code",
   "execution_count": 242,
   "metadata": {},
   "outputs": [],
   "source": [
    "\n",
    "driver.get(\"https://steamdb.info/\")\n",
    "html=driver.page_source\n",
    "#soup=bs(html,'lxml')\n",
    "soup = bs(html, 'html.parser')\n",
    "with open('archivosteam.html', 'w') as f:\n",
    "    f.write(str(soup))"
   ]
  },
  {
   "cell_type": "code",
   "execution_count": 243,
   "metadata": {},
   "outputs": [],
   "source": [
    "# Cerrar la ventana actual\n",
    "driver.close()"
   ]
  },
  {
   "cell_type": "code",
   "execution_count": 244,
   "metadata": {},
   "outputs": [],
   "source": [
    "# Terminar la sesión del navegador\n",
    "driver.quit()"
   ]
  }
 ],
 "metadata": {
  "kernelspec": {
   "display_name": "mientorno",
   "language": "python",
   "name": "python3"
  },
  "language_info": {
   "codemirror_mode": {
    "name": "ipython",
    "version": 3
   },
   "file_extension": ".py",
   "mimetype": "text/x-python",
   "name": "python",
   "nbconvert_exporter": "python",
   "pygments_lexer": "ipython3",
   "version": "3.10.12"
  }
 },
 "nbformat": 4,
 "nbformat_minor": 2
}
